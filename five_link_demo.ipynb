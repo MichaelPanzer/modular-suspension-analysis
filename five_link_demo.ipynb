{
 "cells": [
  {
   "cell_type": "code",
   "execution_count": null,
   "metadata": {},
   "outputs": [],
   "source": [
    "from suspension_kinematics.independent_suspension import Five_Link\n",
    "import numpy as np\n",
    "import scipy as sp\n",
    "import matplotlib.pyplot as plt\n",
    "from matplotlib import rc\n",
    "from vpython import points, curve, vector, color\n",
    "from sympy.solvers import solve\n",
    "from sympy import Symbol\n",
    "\n",
    "plt.rcParams['xtick.labelsize']=20      # change the tick label size for x axis\n",
    "plt.rcParams['ytick.labelsize']=20      # change the tick label size for x axis\n",
    "plt.rcParams['axes.linewidth']=3        # change the line width of the axis\n",
    "plt.rcParams['xtick.major.width'] = 3   # change the tick line width of x axis\n",
    "plt.rcParams['ytick.major.width'] = 3   # change the tick line width of y axis \n",
    "rc('text', usetex=False)                # disable LaTeX rendering in plots\n",
    "rc('font',**{'family':'DejaVu Sans'})   # set the font of the plot to be DejaVu Sans"
   ]
  },
  {
   "cell_type": "code",
   "execution_count": null,
   "metadata": {},
   "outputs": [],
   "source": [
    "\n",
    "link_lengths = np.atleast_2d(np.array([5,5,5,5,6])).T\n",
    "\n",
    "frame_pickups = np.array([[0,1,1],\n",
    "                          [0,-1,1],\n",
    "                          [0,-1,-1],\n",
    "                          [0,1,-1],\n",
    "                          [0,0.5,0]])\n",
    "\n",
    "upright_pickups = np.array([[0,0.9,0.9],\n",
    "                          [0,-0.9,0.9],\n",
    "                          [0,-0.9,-0.9],\n",
    "                          [0,0.9,-0.9],\n",
    "                          [0,1.5,0]])\n",
    "\n",
    "\n",
    "fl = Five_Link(frame_pickups, link_lengths, upright_pickups)"
   ]
  },
  {
   "cell_type": "code",
   "execution_count": null,
   "metadata": {},
   "outputs": [],
   "source": [
    "#solves suspension kinematics system of equations in terms of z\n",
    "def solve_z(z, guess, model):\n",
    "    driving_var = 2\n",
    "    \n",
    "    def function(vars):\n",
    "        return model.full_sys_of_eq(vars, driving_var, z)\n",
    "    \n",
    "    def jacobian(vars):\n",
    "        return model.jacobian(vars, driving_var)\n",
    "\n",
    "    \n",
    "    return sp.optimize.fsolve(function, guess, fprime=jacobian) \n",
    "\n",
    "#solves for a list of inputs, using each output as a guess for the next solution\n",
    "def create_table(inputs, solver, system, inital_guess):\n",
    "    \n",
    "    outputs = np.zeros([len(inputs),len(inital_guess)])\n",
    "    \n",
    "    guess = inital_guess\n",
    "    for i, input in enumerate(inputs):\n",
    "            outputs[i] = solver(input, guess, system)\n",
    "            guess = outputs[i]\n",
    "\n",
    "\n",
    "    return outputs"
   ]
  },
  {
   "cell_type": "code",
   "execution_count": null,
   "metadata": {},
   "outputs": [],
   "source": [
    "x_0 = np.array([ 5, 0, -1, 0, 0,  0, 0, 0, 0, 0, 0, 0, 0, 0, 0, 0])\n",
    "z_vals = np.linspace(-1, 1, 500)\n",
    "positions = create_table(z_vals, solve_z, fl, x_0)"
   ]
  },
  {
   "cell_type": "code",
   "execution_count": null,
   "metadata": {},
   "outputs": [],
   "source": [
    "z = positions[:,2]\n",
    "\n",
    "x = positions[:,0]\n",
    "y = positions[:,1]\n",
    "plt.plot(z, x)\n",
    "plt.plot(z, y)\n",
    "plt.legend([\"x\",\"y\"])\n",
    "plt.show()\n",
    "\n",
    "\n",
    "caster = positions[:,3]\n",
    "camber = positions[:,4]\n",
    "toe = positions[:,5]\n",
    "plt.plot(z, caster*180/np.pi)\n",
    "plt.plot(z, camber*180/np.pi)\n",
    "plt.plot(z, toe*180/np.pi)\n",
    "plt.legend([\"caster\", \"camber\", \"toe\"])\n",
    "plt.show()"
   ]
  }
 ],
 "metadata": {
  "language_info": {
   "name": "python"
  }
 },
 "nbformat": 4,
 "nbformat_minor": 2
}
