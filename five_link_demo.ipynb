{
 "cells": [
  {
   "cell_type": "code",
   "execution_count": null,
   "metadata": {},
   "outputs": [],
   "source": [
    "from suspension_kinematics.independent_suspension import Five_Link\n",
    "import numpy as np\n",
    "import scipy as sp\n",
    "import matplotlib.pyplot as plt\n",
    "from matplotlib import rc\n",
    "from vpython import points, curve, vector, color\n",
    "from sympy.solvers import solve\n",
    "from sympy import Symbol\n",
    "\n",
    "plt.rcParams['xtick.labelsize']=20      # change the tick label size for x axis\n",
    "plt.rcParams['ytick.labelsize']=20      # change the tick label size for x axis\n",
    "plt.rcParams['axes.linewidth']=3        # change the line width of the axis\n",
    "plt.rcParams['xtick.major.width'] = 3   # change the tick line width of x axis\n",
    "plt.rcParams['ytick.major.width'] = 3   # change the tick line width of y axis \n",
    "rc('text', usetex=False)                # disable LaTeX rendering in plots\n",
    "rc('font',**{'family':'DejaVu Sans'})   # set the font of the plot to be DejaVu Sans"
   ]
  },
  {
   "cell_type": "code",
   "execution_count": null,
   "metadata": {},
   "outputs": [],
   "source": [
    "\n",
    "link_lengths = np.atleast_2d(np.array([5,5,5,5,6])).T\n",
    "\n",
    "frame_pickups = np.array([[0,1,1],\n",
    "                          [0,-1,1],\n",
    "                          [0,-1,-1],\n",
    "                          [0,1,-1],\n",
    "                          [0,0.5,0]])\n",
    "\n",
    "upright_pickups = np.array([[0,0.9,0.9],\n",
    "                          [0,-0.9,0.9],\n",
    "                          [0,-0.9,-0.9],\n",
    "                          [0,0.9,-0.9],\n",
    "                          [0,1.5,0]])\n",
    "\n",
    "\n",
    "fl = Five_Link(frame_pickups, link_lengths, upright_pickups)"
   ]
  }
 ],
 "metadata": {
  "language_info": {
   "name": "python"
  }
 },
 "nbformat": 4,
 "nbformat_minor": 2
}
